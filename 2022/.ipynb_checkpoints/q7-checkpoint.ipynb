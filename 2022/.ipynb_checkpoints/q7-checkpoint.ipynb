{
 "cells": [
  {
   "cell_type": "code",
   "execution_count": 8,
   "id": "6a8d8f6d-ae90-49c9-a5e8-f38ce1291ba7",
   "metadata": {
    "tags": []
   },
   "outputs": [
    {
     "name": "stdout",
     "output_type": "stream",
     "text": [
      "Output of Read function is \n"
     ]
    }
   ],
   "source": [
    "file1 = open(\"test.txt\",\"r+\")\n",
    " \n",
    "print(\"Output of Read function is \")\n",
    "input=file1.readlines()"
   ]
  },
  {
   "cell_type": "code",
   "execution_count": 158,
   "id": "dc57d1a0-5d4b-42f0-bfc0-b42730d32b5d",
   "metadata": {
    "tags": []
   },
   "outputs": [],
   "source": [
    "st1=[]\n",
    "with open('test.txt') as f:\n",
    "    lines = f.readlines()"
   ]
  },
  {
   "cell_type": "code",
   "execution_count": 159,
   "id": "025ccdf9-2e0f-4944-85c5-0c3090a7bb0e",
   "metadata": {
    "tags": []
   },
   "outputs": [],
   "source": [
    "for line in lines:\n",
    "    x=line.split(\"\\n\")\n",
    "    st1.append(x[0])"
   ]
  },
  {
   "cell_type": "code",
   "execution_count": 160,
   "id": "9114b739-fd70-442b-a030-abbec1b74300",
   "metadata": {
    "tags": []
   },
   "outputs": [
    {
     "data": {
      "text/plain": [
       "['$ cd /',\n",
       " '$ ls',\n",
       " 'dir a',\n",
       " '14848514 b.txt',\n",
       " '8504156 c.dat',\n",
       " 'dir d',\n",
       " '$ cd a',\n",
       " '$ ls',\n",
       " 'dir e',\n",
       " '29116 f',\n",
       " '2557 g',\n",
       " '62596 h.lst',\n",
       " '$ cd e',\n",
       " '$ ls',\n",
       " '584 i',\n",
       " '$ cd ..',\n",
       " '$ cd ..',\n",
       " '$ cd d',\n",
       " '$ ls',\n",
       " '4060174 j',\n",
       " '8033020 d.log',\n",
       " '5626152 d.ext',\n",
       " '7214296 k']"
      ]
     },
     "execution_count": 160,
     "metadata": {},
     "output_type": "execute_result"
    }
   ],
   "source": [
    "st1"
   ]
  },
  {
   "cell_type": "code",
   "execution_count": 161,
   "id": "dd8c0d25-9e58-42cd-a8d4-07810a464462",
   "metadata": {
    "tags": []
   },
   "outputs": [],
   "source": [
    "finarr=[]\n",
    "st=\"\"\n",
    "for x in st1:\n",
    "    i=x.split(\" \")\n",
    "    if(i[1]==\"cd\" and i[2]!=\"..\"):\n",
    "        st=st+i[2]+\" \"\n",
    "    elif(i[0].isdigit()):\n",
    "        fin=st+x\n",
    "        if fin not in finarr:\n",
    "            finarr.append(fin)\n",
    "    elif(i[1]==\"cd\" and i[2]==\"..\"):\n",
    "        finstr=st.split(\" \")\n",
    "        finstr.pop(-2)\n",
    "        st=' '.join(finstr)\n",
    "    "
   ]
  },
  {
   "cell_type": "code",
   "execution_count": 162,
   "id": "f79d7b19-d140-4438-96d6-95c9ebef2988",
   "metadata": {
    "tags": []
   },
   "outputs": [],
   "source": [
    "sum=0\n",
    "for i in finarr:\n",
    "    x=i.split(\" \")\n",
    "    for j in x:\n",
    "        if(j.isnumeric()):\n",
    "            sum=sum+int(j)"
   ]
  },
  {
   "cell_type": "code",
   "execution_count": 163,
   "id": "e39e0956-288d-4a08-b1d2-f935bc254703",
   "metadata": {
    "tags": []
   },
   "outputs": [
    {
     "data": {
      "text/plain": [
       "48381165"
      ]
     },
     "execution_count": 163,
     "metadata": {},
     "output_type": "execute_result"
    }
   ],
   "source": [
    "sum"
   ]
  },
  {
   "cell_type": "code",
   "execution_count": 167,
   "id": "08be4599-9c8c-42f4-82f5-4a1c82c452e9",
   "metadata": {
    "tags": []
   },
   "outputs": [
    {
     "data": {
      "text/plain": [
       "['/ 14848514 b.txt',\n",
       " '/ 8504156 c.dat',\n",
       " '/ a 29116 f',\n",
       " '/ a 2557 g',\n",
       " '/ a 62596 h.lst',\n",
       " '/ a e 584 i',\n",
       " '/ d 4060174 j',\n",
       " '/ d 8033020 d.log',\n",
       " '/ d 5626152 d.ext',\n",
       " '/ d 7214296 k']"
      ]
     },
     "execution_count": 167,
     "metadata": {},
     "output_type": "execute_result"
    }
   ],
   "source": [
    "finarr"
   ]
  },
  {
   "cell_type": "code",
   "execution_count": 166,
   "id": "ea2ca018-c486-4828-8ec2-e118bf560b33",
   "metadata": {
    "tags": []
   },
   "outputs": [
    {
     "name": "stdout",
     "output_type": "stream",
     "text": [
      "['/'] 14848514\n",
      "['/'] 8504156\n",
      "['/', 'a'] 29116\n",
      "['/', 'a'] 2557\n",
      "['/', 'a'] 62596\n",
      "['/', 'a', 'e'] 584\n",
      "['/', 'd'] 4060174\n",
      "['/', 'd'] 8033020\n",
      "['/', 'd'] 5626152\n",
      "['/', 'd'] 7214296\n"
     ]
    }
   ],
   "source": [
    "dir1={}\n",
    "for i in finarr:\n",
    "    nu,arr=0,[]\n",
    "    x=i.split()\n",
    "    for j in x:\n",
    "        if(j.isnumeric()):\n",
    "            nu=j\n",
    "            break\n",
    "        else:\n",
    "            arr.append(j)\n",
    "    for k in arr:\n",
    "        if k not in dir1:\n",
    "            dir1[k]=nu\n",
    "        else:\n",
    "            dir1[k]=dir1+nu"
   ]
  },
  {
   "cell_type": "code",
   "execution_count": null,
   "id": "fc62db1d-dbae-4aa9-81e0-6eedcd7819c4",
   "metadata": {},
   "outputs": [],
   "source": []
  }
 ],
 "metadata": {
  "kernelspec": {
   "display_name": "Python 3 (ipykernel)",
   "language": "python",
   "name": "python3"
  },
  "language_info": {
   "codemirror_mode": {
    "name": "ipython",
    "version": 3
   },
   "file_extension": ".py",
   "mimetype": "text/x-python",
   "name": "python",
   "nbconvert_exporter": "python",
   "pygments_lexer": "ipython3",
   "version": "3.9.12"
  }
 },
 "nbformat": 4,
 "nbformat_minor": 5
}
