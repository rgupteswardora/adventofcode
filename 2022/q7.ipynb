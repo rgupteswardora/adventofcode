{
 "cells": [
  {
   "cell_type": "code",
   "execution_count": 38,
   "id": "dc57d1a0-5d4b-42f0-bfc0-b42730d32b5d",
   "metadata": {
    "tags": []
   },
   "outputs": [],
   "source": [
    "st1=[]\n",
    "with open('q7.txt') as f:\n",
    "    lines = f.readlines()"
   ]
  },
  {
   "cell_type": "code",
   "execution_count": 39,
   "id": "025ccdf9-2e0f-4944-85c5-0c3090a7bb0e",
   "metadata": {
    "tags": []
   },
   "outputs": [],
   "source": [
    "for line in lines:\n",
    "    x=line.split(\"\\n\")\n",
    "    st1.append(x[0])"
   ]
  },
  {
   "cell_type": "code",
   "execution_count": 40,
   "id": "dd8c0d25-9e58-42cd-a8d4-07810a464462",
   "metadata": {
    "tags": []
   },
   "outputs": [],
   "source": [
    "finarr=[]\n",
    "st=\"\"\n",
    "for x in st1:\n",
    "    i=x.split(\" \")\n",
    "    if(i[1]==\"cd\" and i[2]!=\"..\"):\n",
    "        st=st+i[2]+\" \"\n",
    "    elif(i[0].isdigit()):\n",
    "        fin=st+x\n",
    "        if fin not in finarr:\n",
    "            finarr.append(fin)\n",
    "    elif(i[1]==\"cd\" and i[2]==\"..\"):\n",
    "        finstr=st.split(\" \")\n",
    "        finstr.pop(-2)\n",
    "        st=' '.join(finstr)\n",
    "    "
   ]
  },
  {
   "cell_type": "code",
   "execution_count": 41,
   "id": "f79d7b19-d140-4438-96d6-95c9ebef2988",
   "metadata": {
    "tags": []
   },
   "outputs": [],
   "source": [
    "sum=0\n",
    "for i in finarr:\n",
    "    x=i.split(\" \")\n",
    "    for j in x:\n",
    "        if(j.isnumeric()):\n",
    "            sum=sum+int(j)"
   ]
  },
  {
   "cell_type": "code",
   "execution_count": 42,
   "id": "e39e0956-288d-4a08-b1d2-f935bc254703",
   "metadata": {
    "tags": []
   },
   "outputs": [
    {
     "data": {
      "text/plain": [
       "42080344"
      ]
     },
     "execution_count": 42,
     "metadata": {},
     "output_type": "execute_result"
    }
   ],
   "source": [
    "sum"
   ]
  },
  {
   "cell_type": "code",
   "execution_count": 43,
   "id": "08be4599-9c8c-42f4-82f5-4a1c82c452e9",
   "metadata": {
    "tags": []
   },
   "outputs": [
    {
     "data": {
      "text/plain": [
       "['/ fwbjchs 154619 wqdlv.mdw',\n",
       " '/ fwbjchs 21648 wvbnz',\n",
       " '/ hmnpr 178623 rftqqsrp.bfm',\n",
       " '/ jtrbrcjl nmbfwc 242645 lcgv',\n",
       " '/ jtrbrcjl nmbfwc 256365 wdzw.drg',\n",
       " '/ jtrbrcjl whqb 161522 mrqgpv.gsm',\n",
       " '/ jtrbrcjl whqb 48062 vpsgcl.gfh',\n",
       " '/ lcgv cthtlwds dghvw 107090 jmj.lzh',\n",
       " '/ lcgv cthtlwds tfwgg 252616 fvj',\n",
       " '/ lcgv cthtlwds tfwgg 234528 mpb',\n",
       " '/ lcgv cthtlwds tfwgg 181198 pzqgf.cjd',\n",
       " '/ lcgv cthtlwds tfwgg ddnfmsjc hwmcsdvt 208912 wdzw.drg',\n",
       " '/ lcgv cthtlwds tfwgg ddnfmsjc lcgv 47252 tnd.ztd',\n",
       " '/ lcgv cthtlwds tfwgg gng 44313 pzqgf.cjd',\n",
       " '/ lcgv cthtlwds tfwgg lcgv 182616 wdzw.drg',\n",
       " '/ lcgv cthtlwds tfwgg svvz 86968 sqtggfv',\n",
       " '/ lcgv cthtlwds tfwgg svvz 33927 vfmltgs',\n",
       " '/ lcgv grldv 145761 mrqgpv.gsm',\n",
       " '/ lcgv grldv wqdlv 96902 jhmsp',\n",
       " '/ lcgv grldv wqdlv 157064 mrqgpv.gsm',\n",
       " '/ lcgv lnztfr 137978 bpq',\n",
       " '/ lcgv lnztfr 180941 fvpfmwn',\n",
       " '/ lcgv lnztfr 148685 hsg.qgj',\n",
       " '/ lcgv lnztfr 865 mrqgpv.gsm',\n",
       " '/ lcgv vwhf 116134 mrqgpv.gsm',\n",
       " '/ lcgv vwhf bgtgqzz 283411 nmbfwc',\n",
       " '/ lcgv vwhf bgtgqzz 240602 ttlbcssq',\n",
       " '/ lcgv vwhf bgtgqzz dzpjg 75545 cmfw.gsj',\n",
       " '/ lcgv vwhf bgtgqzz dzpjg 189219 lcgv.chq',\n",
       " '/ lcgv vwhf bgtgqzz dzpjg 255580 lqndrsh.szf',\n",
       " '/ lcgv vwhf bgtgqzz dzpjg 175733 mrqgpv.gsm',\n",
       " '/ lcgv vwhf bgtgqzz smhhzq 137259 thjwcz.qhn',\n",
       " '/ lcgv vwhf fcwzw 59717 tpljg',\n",
       " '/ lcgv vwhf lcgv 148881 mrzcdzd.gjt',\n",
       " '/ lcgv vwhf lcgv 68671 pzqgf.cjd',\n",
       " '/ lcgv vwhf lcgv 242866 slpftp',\n",
       " '/ lcgv vwhf lcgv 89945 vpsgcl.gfh',\n",
       " '/ lcgv vwhf lcgv 196497 wdzw.drg',\n",
       " '/ lcgv vwhf mrlvtb 40003 rfzrwc.zjn',\n",
       " '/ lcgv vwhf wszvqd bhhtbv 248604 ldscpjmp',\n",
       " '/ lcgv vwhf wszvqd bhhtbv fbh 256295 vpsgcl.gfh',\n",
       " '/ lcgv vwhf wszvqd bhhtbv nmbfwc 83799 lcgv.vfc',\n",
       " '/ lcgv vwhf wszvqd lcpvwdq 212569 rfzrwc.clp',\n",
       " '/ lcgv vwhf wszvqd lcpvwdq 23957 wdzw.drg',\n",
       " '/ lcgv vwhf wszvqd lcpvwdq lwhq 240867 fzrwpl.hqd',\n",
       " '/ lcgv vwhf wszvqd lcpvwdq lwhq 68771 mzsqgswh',\n",
       " '/ lcgv vwhf wszvqd lcpvwdq lwhq 88777 pqtqv.qwz',\n",
       " '/ lcgv znmzg 30277 gltpwzg.gjd',\n",
       " '/ lcgv znmzg 211983 wdzw.drg',\n",
       " '/ ldqc 97119 gdnlwmbf',\n",
       " '/ ldqc 115989 lcgv.hlf',\n",
       " '/ ldqc 255836 lchqqdh.wrn',\n",
       " '/ ldqc dnzfqzwv tqv 139984 dwhz.nhz',\n",
       " '/ ldqc dnzfqzwv tqv 240411 pzqgf.cjd',\n",
       " '/ ldqc dnzfqzwv tqv 129386 rnnr',\n",
       " '/ ldqc dnzfqzwv tqv 190691 svgwt.mql',\n",
       " '/ ldqc dvshtm 96767 mrqgpv.gsm',\n",
       " '/ ldqc dvshtm lcgv 82949 bldf.hwn',\n",
       " '/ ldqc dvshtm qdmmpq lzgwflt 148651 tndbwbh',\n",
       " '/ ldqc dvshtm qdmmpq vgrdpbg wqdlv 130393 rqjc.dnr',\n",
       " '/ ldqc gqb 212592 mrzcdzd.gjt',\n",
       " '/ ldqc gqb 70051 tqpwdwm.nzz',\n",
       " '/ ldqc gqb 52226 wbsdrsfh.tfw',\n",
       " '/ ldqc gqb jtf 232635 lvpccb.dmm',\n",
       " '/ ldqc gqb jtf 105086 wdzw.drg',\n",
       " '/ ldqc gqb lvwpqs 124821 dmhqlt',\n",
       " '/ ldqc gqb lvwpqs 265915 mrqgpv.gsm',\n",
       " '/ ldqc gqb lvwpqs 45481 pzqgf.cjd',\n",
       " '/ ldqc gqb vznbng 42179 nrzcpgvl.jft',\n",
       " '/ ldqc gqb vznbng 17752 tld.ghn',\n",
       " '/ ldqc gqb vznbng 174859 zvqglbw.ppl',\n",
       " '/ ldqc jclb bnz 199447 mrzcdzd.gjt',\n",
       " '/ ldqc jclb dtmtvbw bjthn 272777 pgqfn.tdd',\n",
       " '/ ldqc jclb dtmtvbw hzlhz 50958 lcgv.gvq',\n",
       " '/ ldqc jclb dtmtvbw zmflq 207442 rrnwns.zpf',\n",
       " '/ ldqc jclb dtmtvbw zmflq 15759 wdzw.drg',\n",
       " '/ ldqc jclb hnlrtpbz 69788 jhqjs.sdj',\n",
       " '/ ldqc jclb hnlrtpbz 219666 jljzp.mhf',\n",
       " '/ ldqc jclb hnlrtpbz 137518 jqnfg',\n",
       " '/ ldqc jclb hnlrtpbz 108183 shfjz.vnr',\n",
       " '/ ldqc jclb hnlrtpbz 130164 vpsgcl.gfh',\n",
       " '/ ldqc jclb pbb wqdlv 146479 vpsgcl.gfh',\n",
       " '/ ldqc jclb pbb wqdlv fgggwt 264892 wqdlv.zsp',\n",
       " '/ ldqc jclb pbb wqdlv hrghbhj 116698 bfwtbg',\n",
       " '/ ldqc jclb pbb wqdlv hrghbhj 92758 pzqgf.cjd',\n",
       " '/ ldqc jclb pbb wqdlv hrghbhj 284427 vpsgcl.gfh',\n",
       " '/ ldqc jclb pbb wqdlv hrghbhj 229621 wqdlv.pml',\n",
       " '/ ldqc jclb pbb wqdlv hrghbhj lcgv 30459 mrzcdzd.gjt',\n",
       " '/ ldqc jclb pbb wqdlv hrghbhj lcgv wqdlv 78475 wdzw.drg',\n",
       " '/ ldqc jclb pbb wqdlv hrghbhj tsdjgt 166330 jpfms',\n",
       " '/ ldqc jclb pbb wqdlv hrghbhj tsdjgt 16410 tjswm.bqv',\n",
       " '/ ldqc jclb pbb wqdlv hrghbhj zfjjncvd 59841 mrqgpv.gsm',\n",
       " '/ ldqc jclb pbb wqdlv nmbfwc 151403 mmjm',\n",
       " '/ ldqc jclb pbb wqdlv nmbfwc 240129 mmsb',\n",
       " '/ ldqc jclb pbb wqdlv nmbfwc 206021 nmbfwc.sds',\n",
       " '/ ldqc jclb pbb wqdlv nmbfwc 84439 vpsgcl.gfh',\n",
       " '/ ldqc jclb pbb wqdlv nmbfwc jtn 23555 hmmt.gbb',\n",
       " '/ ldqc jclb pbb wqdlv nmbfwc wqdlv 69742 jppj.vvg',\n",
       " '/ ldqc jclb pbb wqdlv nmbfwc zvnrwfhn 242009 lcgv.bds',\n",
       " '/ ldqc jclb pbb wqdlv tgmqnq 259985 bzqjt',\n",
       " '/ ldqc jclb pbb wqdlv tgmqnq 46410 flsm.szr',\n",
       " '/ ldqc jclb pbb wqdlv tgmqnq 89561 npfmc.vqs',\n",
       " '/ ldqc jclb pbb wqdlv tgmqnq 17503 vpsgcl.gfh',\n",
       " '/ ldqc jclb pbb wqdlv tgmqnq 73719 wqdlv.gjn',\n",
       " '/ ldqc jclb pbb wqdlv tgmqnq lcgv 177553 ffvzsgz',\n",
       " '/ ldqc jclb pbb wqdlv tgmqnq lcgv 216443 mrzcdzd.gjt',\n",
       " '/ ldqc jclb pbb wqdlv tgmqnq lcgv 255381 nmbfwc',\n",
       " '/ ldqc jclb pbb wqdlv tgmqnq lcgv 84061 zmflq.vlw',\n",
       " '/ ldqc jclb pbb wqdlv tgmqnq lcgv dzfglmz 220883 dqbcfgfd',\n",
       " '/ ldqc jclb pbb wqdlv tgmqnq lcgv ljt 11842 rfzrwc.hpn',\n",
       " '/ ldqc jclb pbb wqdlv tgmqnq lcgv rplqnt 119893 lszmvzst.zng',\n",
       " '/ ldqc jclb pbb wqdlv wqdlv 272999 hbhwqt.fsl',\n",
       " '/ ldqc jclb pbb wqdlv wqdlv 144546 jvhjnsz',\n",
       " '/ ldqc jclb pbb wqdlv wqdlv 102615 pzqgf.cjd',\n",
       " '/ ldqc jclb pbb wqdlv wqdlv chnpddzn 256977 pzqgf.cjd',\n",
       " '/ ldqc jclb pbb wqdlv wqdlv chnpddzn wqdlv 6565 hlcqgmj',\n",
       " '/ ldqc jclb pbb wqdlv wqdlv ppsm 238358 fvw.bzw',\n",
       " '/ ldqc jclb pbb wqdlv wqdlv ppsm 265010 mrzcdzd.gjt',\n",
       " '/ ldqc jclb pbb wqdlv wqdlv ppsm 201818 rfzrwc',\n",
       " '/ ldqc jclb pbb wqdlv wqdlv ppsm ggjnl 45841 nlnrrqf.fwn',\n",
       " '/ ldqc jclb pbb wqdlv wqdlv ppsm ssggblm 276584 djqb.ngq',\n",
       " '/ ldqc jclb pbb wqdlv wqdlv ppsm ssggblm 18926 lcgv',\n",
       " '/ ldqc jclb pbb wqdlv wqdlv swdnss bmrzhjs 269825 mrqgpv.gsm',\n",
       " '/ ldqc jclb pbb wqdlv wqdlv swdnss bmrzhjs 3162 rdmbdwq.bmv',\n",
       " '/ ldqc jclb pbb zmflq hnrnldw 102631 wjbbjwtm.vvz',\n",
       " '/ ldqc jclb pbb zmflq lcgv 205204 lqnrp',\n",
       " '/ ldqc jclb pbb zmflq lcgv dzz 226221 nggtqdzn',\n",
       " '/ ldqc jclb pbb zmflq lcgv dzz 94641 npmpjnjm.bzg',\n",
       " '/ ldqc jclb pbb zmflq lcgv dzz 41983 vfdz.ngz',\n",
       " '/ ldqc jclb pbb zmflq lcgv dzz 271561 zmflq.zsc',\n",
       " '/ ldqc jclb pbb zmflq lcgv dzz cvvdv 64260 hhqv.tsg',\n",
       " '/ ldqc jclb pbb zmflq lcgv dzz cvvdv 31245 pzqgf.cjd',\n",
       " '/ ldqc jclb pbb zmflq lcgv dzz cvvdv 280268 znjjp',\n",
       " '/ ldqc jclb pbb zmflq lcgv dzz rsdw lcgv 37080 nmbfwc',\n",
       " '/ ldqc jclb pbb zmflq lcgv dzz sjrb 233530 mrqgpv.gsm',\n",
       " '/ ldqc jclb pbb zmflq lcgv hbzzf 36018 mrqgpv.gsm',\n",
       " '/ ldqc jclb pbb zmflq lcgv jncrbhc 205345 mrqgpv.gsm',\n",
       " '/ ldqc jclb pbb zmflq lcgv jncrbhc 244683 nqpcpt',\n",
       " '/ ldqc jclb pbb zmflq lcgv mzzpfnr 90391 wqdlv.pdr',\n",
       " '/ ldqc jclb pbb zmflq lcgv mzzpfnr 144119 zmflq',\n",
       " '/ ldqc jclb pbb zmflq lcgv mzzpfnr hmjzlr 268342 svsd.jcd',\n",
       " '/ ldqc jclb pbb zmflq lcgv mzzpfnr lcgv pwhl 42795 gvmt',\n",
       " '/ ldqc jclb pbb zmflq lcgv mzzpfnr lcgv pwhl 82576 wdzw.drg',\n",
       " '/ ldqc jclb pbb zmflq lcgv mzzpfnr lcgv rfzrwc 156985 mrqgpv.gsm',\n",
       " '/ ldqc jclb pbb zmflq lcgv mzzpfnr lcgv rfzrwc jjl 104785 nmbfwc',\n",
       " '/ ldqc jclb pbb zmflq lcgv mzzpfnr lcgv rfzrwc jjl 20108 wdzw.drg',\n",
       " '/ ldqc jclb pbb zmflq lcgv mzzpfnr lcgv rfzrwc jjl jrjjr 243753 hgndlcrv.wbc',\n",
       " '/ ldqc jclb pbb zmflq lcgv mzzpfnr lcgv rfzrwc mqp 142621 cljnbs',\n",
       " '/ ldqc jclb pbb zmflq lcgv mzzpfnr lcgv rfzrwc wptr 46279 vjqlvhrh.njr',\n",
       " '/ ldqc jclb pbb zmflq lcgv mzzpfnr lcgv rfzrwc wqdlv 104474 vpsgcl.gfh',\n",
       " '/ ldqc jclb pbb zmflq lcgv mzzpfnr mczs 186843 mrqgpv.gsm',\n",
       " '/ ldqc jclb pbb zmflq lcgv mzzpfnr mczs pjm wqdlv 201647 sgtt',\n",
       " '/ ldqc jclb pbb zmflq lcgv mzzpfnr mczs thbwb 146494 mrqgpv.gsm',\n",
       " '/ ldqc jclb pbb zmflq lcgv mzzpfnr wqdlv 103876 mrqgpv.gsm',\n",
       " '/ ldqc jclb pbb zmflq lcgv nmbfwc fgctdds 205015 bwvshdcz.dpp',\n",
       " '/ ldqc jclb pbb zmflq lcgv nmbfwc rwgscjbv 242899 rbmtfdhp',\n",
       " '/ ldqc jclb pbb zmflq lcgv rfzrwc 228624 ffj',\n",
       " '/ ldqc jclb pbb zmflq lcgv rfzrwc 268775 vbhsh.nnz',\n",
       " '/ ldqc jclb pbb zmflq lcgv rfzrwc 129373 vpsgcl.gfh',\n",
       " '/ ldqc jclb pbb zmflq lcgv rfzrwc 68919 wqdlv',\n",
       " '/ ldqc jclb pbb zmflq lcgv rfzrwc 153277 zmflq.frv',\n",
       " '/ ldqc jclb pbb zmflq lcgv rfzrwc bnsgzwhn 9892 ltcrrzhb.njc',\n",
       " '/ ldqc jclb pbb zmflq lcgv rfzrwc bnsgzwhn wpwmflr 274142 bfj.fbw',\n",
       " '/ ldqc jclb pbb zmflq lcgv rfzrwc bnsgzwhn wpwmflr rfzrwc 161517 mrqgpv.gsm',\n",
       " '/ ldqc jclb pbb zmflq lcgv rfzrwc bnsgzwhn wpwmflr rfzrwc zbhgwsd 43750 vbqmpbcr.zwz',\n",
       " '/ ldqc jclb pbb zmflq lcgv rfzrwc bnsgzwhn wpwmflr srnm rvvtgr 164604 wzgbzbn',\n",
       " '/ ldqc jclb pbb zmflq lcgv rfzrwc bnsgzwhn zmflq 184482 mrqgpv.gsm',\n",
       " '/ ldqc jclb pbb zmflq lcgv rfzrwc bnsgzwhn zmflq 80280 pzqgf.cjd',\n",
       " '/ ldqc jclb pbb zmflq lcgv rfzrwc bnsgzwhn zmflq 183303 zln.tbm',\n",
       " '/ ldqc jclb pbb zmflq lcgv rfzrwc lcgv lcgv bpjzg 99853 wdzw.drg',\n",
       " '/ ldqc jclb pbb zmflq lcgv rfzrwc lcgv pqttlp 45115 mrzcdzd.gjt',\n",
       " '/ ldqc jclb pbb zmflq lcgv rfzrwc lcgv pqttlp 248058 qnvhgpw.ddw',\n",
       " '/ ldqc jclb pbb zmflq lcgv rfzrwc lcgv pqttlp 112129 rfzrwc',\n",
       " '/ ldqc jclb pbb zmflq lcgv rfzrwc lcgv pqttlp bgvhcgfn 228291 nmbfwc.gqj',\n",
       " '/ ldqc jclb pbb zmflq lcgv rfzrwc rcvwcbfd vtrtt 138009 pzqgf.cjd',\n",
       " '/ ldqc jclb pbb zmflq lcgv rfzrwc rcvwcbfd vtrtt ztsvzpn 51632 vpsgcl.gfh',\n",
       " '/ ldqc jclb pbb zmflq lcgv rfzrwc rcvwcbfd wgp 81030 lcgv.zhv',\n",
       " '/ ldqc jclb pbb zmflq lcgv rfzrwc wqmdw zmrdf qqgw 58554 gqpqvplc.zvr',\n",
       " '/ ldqc jclb pbb zmflq lcgv rfzrwc zmflq 224544 mrzcdzd.gjt',\n",
       " '/ ldqc jclb pbb zmflq lcgv rfzrwc zmflq 254976 pzqgf.cjd',\n",
       " '/ ldqc jclb pbb zmflq lcgv rnrmhfz 19759 lcgv.stz',\n",
       " '/ ldqc jclb pbb zmflq lcgv zmflq 22390 nftzlqg.qmp',\n",
       " '/ ldqc jclb pbb zmflq lcgv zmflq 80148 wqdlv',\n",
       " '/ ldqc jclb pbb zmflq mpmcghz 169324 mrqgpv.gsm',\n",
       " '/ ldqc jclb pbb zmflq mpmcghz 65924 wdzw.drg',\n",
       " '/ ldqc jclb pbb zmflq nbbv 115297 bqcrc.prw',\n",
       " '/ ldqc jclb pbb zmflq nbbv 58148 pvzv.qwf',\n",
       " '/ ldqc jclb pbb zmflq nbbv wqdlv 145268 mrzcdzd.gjt',\n",
       " '/ ldqc jclb pbb zmflq nbbv wqdlv 35745 nmbfwc.hgv',\n",
       " '/ ldqc jclb pbb zmflq nbbv wqdlv 112142 wqdlv',\n",
       " '/ ldqc jclb pbb zmflq qsnfzp 241308 nmbfwc.hmg',\n",
       " '/ ldqc jclb pbb zmflq tntnjg 19543 mrqgpv.gsm',\n",
       " '/ ldqc jclb pbb zmflq tntnjg 667 wqdlv',\n",
       " '/ ldqc jclb pbb zmflq wqdlv 189727 mrzcdzd.gjt',\n",
       " '/ ldqc jclb pbb zmflq wqdlv 208280 vpsgcl.gfh',\n",
       " '/ ldqc jclb pbb zmflq wqdlv 281557 vwsljgn.mwd',\n",
       " '/ ldqc jclb pbb zmflq wqdlv 119829 zmflq.hgd',\n",
       " '/ ldqc jclb pbb zmflq wqdlv dqpgtmdl 268413 qcw.slb',\n",
       " '/ ldqc jclb pbb zmflq wqdlv jrqsqrv 238387 mvllmjc.wvm',\n",
       " '/ ldqc jclb pbb zmflq wqdlv jrqsqrv 213020 nqp.gdr',\n",
       " '/ ldqc jclb pbb zmflq wqdlv jrqsqrv 157257 nzdmplg.zqh',\n",
       " '/ ldqc jclb pbb zmflq wqdlv jrqsqrv 24914 pzqgf.cjd',\n",
       " '/ ldqc jclb pbb zmflq wqdlv jrqsqrv ppwcgc 249714 bsrnnhrr.spq',\n",
       " '/ ldqc jclb pbb zmflq wqdlv jrqsqrv ppwcgc cvnd 248610 pzqgf.cjd',\n",
       " '/ ldqc jclb pbb zmflq wqdlv jrqsqrv zjr 224145 smwb.mmz',\n",
       " '/ ldqc jclb pbb zmflq wqdlv jrqsqrv zmflq 250519 ftggp',\n",
       " '/ ldqc jclb pbb zmflq wqdlv jrqsqrv zmflq 147304 vpsgcl.gfh',\n",
       " '/ ldqc jclb pbb zmflq wqdlv jrqsqrv zmflq 238706 wdzw.drg',\n",
       " '/ ldqc jclb pbb zmflq wqdlv jrqsqrv zmflq 258323 wqdlv.bjp',\n",
       " '/ ldqc jclb pbb zmflq wqdlv jrqsqrv zmflq wqgngf 14302 bdz.jdw',\n",
       " '/ ldqc jclb pbb zmflq wqdlv jrqsqrv zmflq wqgngf 22718 nwfh.nzf',\n",
       " '/ ldqc jclb pbb zmflq wqdlv jrqsqrv zmflq wqgngf jpgfsgd lcgv 284229 qhwc.zpq',\n",
       " '/ ldqc jclb pbb zmflq wqdlv jrqsqrv zmflq wqgngf jpgfsgd lcgv wsjs 111635 lcgv',\n",
       " '/ ldqc jclb pbb zmflq wqdlv jrqsqrv zmflq wqgngf jpgfsgd qbrwz 199057 gpssftw.wdb',\n",
       " '/ ldqc jclb pbb zmflq wqdlv jrqsqrv zmflq wqgngf ldwgr 260404 gdnpg.vjb',\n",
       " '/ ldqc jclb pbb zmflq wqdlv rfzrwc lmcg 32819 sjjztgr.rfj',\n",
       " '/ ldqc jclb vhjwtq qgqbrv 176900 gwbnqtn.rnj',\n",
       " '/ ldqc jclb vpfggv 144809 cmc.srv',\n",
       " '/ ldqc jclb vpfggv 117565 nhddq.bqn',\n",
       " '/ ldqc jclb vpfggv 71774 wqdlv.gdm',\n",
       " '/ ldqc jclb vpfggv 61647 zmflq',\n",
       " '/ ldqc jclb vpfggv 174026 zmflq.wzn',\n",
       " '/ ldqc jclb vpfggv scw 2295 bqbsrj.gnc',\n",
       " '/ ldqc jclb vpfggv scw 243386 mfmdqhh.mzl',\n",
       " '/ ldqc jclb vpfggv tpmnhdc fjwr 133256 pwgtqz.dpm',\n",
       " '/ ldqc jclb vpfggv tpmnhdc fjwr 159987 vpsgcl.gfh',\n",
       " '/ ldqc jclb vpfggv tpmnhdc lcllz 210654 qmbfw.bsv',\n",
       " '/ ldqc jclb vpfggv tpmnhdc lcllz flwws 222222 nmbfwc.vhj',\n",
       " '/ ldqc jclb vpfggv tpmnhdc lcllz zmflq 235011 jlzfbt.wlb',\n",
       " '/ ldqc jclb vpfggv tpmnhdc lcllz zmflq 49525 rfzrwc.fnc',\n",
       " '/ ldqc jclb vpfggv tpmnhdc nmbfwc 133730 dqdqhvm',\n",
       " '/ ldqc jclb vpfggv tpmnhdc nmbfwc 188291 nmbfwc.qhv',\n",
       " '/ ldqc jclb vpfggv tpmnhdc nmbfwc 110039 wdzw.drg',\n",
       " '/ ldqc jclb vpfggv tpmnhdc nmbfwc 249996 wqdlv',\n",
       " '/ ldqc jclb vpfggv tpmnhdc nmbfwc lcgv wths 120313 jdbtlf.rrn',\n",
       " '/ ldqc jclb vpfggv tpmnhdc nmbfwc zmflq 124906 dqdcpzh',\n",
       " '/ ldqc jclb vpfggv tpmnhdc nmbfwc zppcvq 112537 mrzcdzd.gjt',\n",
       " '/ ldqc jclb vpfggv vvp 194927 hvlm.pbd',\n",
       " '/ ldqc jclb vpfggv vvp 230376 pgsq',\n",
       " '/ ldqc jclb vpfggv vvp fsw 111889 nmbfwc.smt',\n",
       " '/ ldqc jclb vpfggv vvp fsw rfzrwc 282718 gbvss',\n",
       " '/ ldqc jclb vpfggv vvp nmbfwc 160971 ngqvztv.hfg',\n",
       " '/ ldqc jclb vpfggv vvp nmbfwc fvh 256956 mrqgpv.gsm',\n",
       " '/ ldqc jclb vpfggv vvp nmbfwc fvh 14363 vbvsncs.jjw',\n",
       " '/ ldqc jclb vpfggv vvp nmbfwc fvh 172959 wdzw.drg',\n",
       " '/ ldqc jclb vpfggv vvp nmbfwc rfzrwc 257264 vpsgcl.gfh',\n",
       " '/ ldqc jclb zmflq 10486 lbdtpnps.jhq',\n",
       " '/ ldqc jclb zmflq 118145 rlgjvn.nvf',\n",
       " '/ ldqc jclb zmflq 176390 wdzw.drg',\n",
       " '/ ldqc jgbsw 214846 dwqdqv.ftq',\n",
       " '/ ldqc jgbsw 147094 vpsgcl.gfh',\n",
       " '/ ldqc jgbsw cfdljgh 261471 mrqgpv.gsm',\n",
       " '/ ldqc jgbsw rfzrwc 57417 zfqrqv.fvp',\n",
       " '/ ldqc jgbsw rfzrwc fcvfw 279614 wdzw.drg',\n",
       " '/ ldqc jgbsw rfzrwc gvqrwgrs sgfltf 204207 mstlc.wtj',\n",
       " '/ ldqc qtdlb gjpmcvwp cjjdzcwm 233873 pdnsrz.vfp',\n",
       " '/ ldqc qtdlb nsjlcmfz 53472 nmbfwc',\n",
       " '/ ldqc qtdlb nsjlcmfz qvpj 150929 mrzcdzd.gjt',\n",
       " '/ ldqc qtdlb wqdlv qccsnjd 65908 hsrqhn.hjr',\n",
       " '/ ldqc qtdlb wqdlv qccsnjd 267802 zmflq.jdt',\n",
       " '/ ldqc rmljszcj 172566 nbtszsgl',\n",
       " '/ ldqc rmljszcj jnstrbj 232158 fgccmchh.wqg',\n",
       " '/ ldqc rmljszcj jnstrbj 236339 mrqgpv.gsm',\n",
       " '/ ldqc rmljszcj jnstrbj 281875 rfzrwc.sfd',\n",
       " '/ ldqc rmljszcj wqdlv 58492 wdzw.drg',\n",
       " '/ ldqc rmljszcj wqdlv 213853 wqdlv.zlz',\n",
       " '/ ldqc tqwpmw 92747 pzqgf.cjd',\n",
       " '/ ldqc vhdgcsw 125104 crfw.sfv',\n",
       " '/ ldqc vhdgcsw 139949 mrqgpv.gsm',\n",
       " '/ ldqc vhdgcsw 97174 zmflq.vpn',\n",
       " '/ ldqc vhdgcsw flhbhzlt 282258 mrzcdzd.gjt',\n",
       " '/ ldqc vhdgcsw rfzrwc lcgv 178245 lcgv',\n",
       " '/ ldqc vhdgcsw rfzrwc lcgv 106863 nmbfwc.fgr',\n",
       " '/ ldqc vhdgcsw rfzrwc lcgv dlpng 195950 rfzrwc',\n",
       " '/ ldqc vhdgcsw rfzrwc lcgv glqrj 248909 pzqgf.cjd',\n",
       " '/ ldqc vhdgcsw rfzrwc lcgv glqrj 34214 vpsgcl.gfh',\n",
       " '/ ldqc vhdgcsw rnz chfccv 13688 mrqgpv.gsm',\n",
       " '/ ldqc vhdgcsw rnz chfccv 162142 vpsgcl.gfh',\n",
       " '/ ldqc vhdgcsw rnz cmsccq 94122 dzpsltth',\n",
       " '/ ldqc vhdgcsw rnz cmsccq 190025 rfzrwc',\n",
       " '/ ldqc vhdgcsw rnz cmsccq 12230 wgghbcz.tph',\n",
       " '/ ldqc vhdgcsw rnz cmsccq 60111 wqdlv',\n",
       " '/ ldqc vhdgcsw rnz cmsccq twqt 109250 wdzw.drg',\n",
       " '/ ldqc vhdgcsw rnz zmflq 174075 wdzw.drg',\n",
       " '/ vrvl 210089 rfzrwc',\n",
       " '/ vrvl pnfv 183315 rhmztnnh',\n",
       " '/ vrvl stcfmz 115637 lcgv']"
      ]
     },
     "execution_count": 43,
     "metadata": {},
     "output_type": "execute_result"
    }
   ],
   "source": [
    "finarr"
   ]
  },
  {
   "cell_type": "code",
   "execution_count": 44,
   "id": "ea2ca018-c486-4828-8ec2-e118bf560b33",
   "metadata": {
    "tags": []
   },
   "outputs": [],
   "source": [
    "dir1={}\n",
    "for i in finarr:\n",
    "    nu,arr=0,[]\n",
    "    s=\"\"\n",
    "    x=i.split()\n",
    "    for j in x:\n",
    "        if(j.isnumeric()):\n",
    "            nu=j\n",
    "            break\n",
    "        else:\n",
    "            arr.append(j)\n",
    "    for k in arr:\n",
    "        s=s+k+\"/\"\n",
    "        if s not in dir1:\n",
    "            dir1[s]=int(nu)\n",
    "        else:\n",
    "            dir1[s]=dir1[s]+int(nu)"
   ]
  },
  {
   "cell_type": "code",
   "execution_count": 45,
   "id": "fc62db1d-dbae-4aa9-81e0-6eedcd7819c4",
   "metadata": {
    "tags": []
   },
   "outputs": [],
   "source": [
    "su1=0\n",
    "for x in dir1:\n",
    "    if(dir1[x]<100000):\n",
    "        su1=su1+dir1[x]"
   ]
  },
  {
   "cell_type": "code",
   "execution_count": 46,
   "id": "479216e5-3edc-4d9f-8ba2-a6c68cffb60a",
   "metadata": {
    "tags": []
   },
   "outputs": [
    {
     "data": {
      "text/plain": [
       "1611443"
      ]
     },
     "execution_count": 46,
     "metadata": {},
     "output_type": "execute_result"
    }
   ],
   "source": [
    "su1"
   ]
  },
  {
   "cell_type": "code",
   "execution_count": 47,
   "id": "a110bc8c-3b46-4e39-8020-87e5ea7408ea",
   "metadata": {
    "tags": []
   },
   "outputs": [],
   "source": [
    "ls=list(dir1.values())"
   ]
  },
  {
   "cell_type": "code",
   "execution_count": 48,
   "id": "228d3a7f-60d8-4251-a7d4-f2d8ede4c845",
   "metadata": {
    "tags": []
   },
   "outputs": [],
   "source": [
    "avspace=abs(70000000-42080344-30000000)"
   ]
  },
  {
   "cell_type": "code",
   "execution_count": 49,
   "id": "4b94f54c-20e3-4149-a541-cebf7f0e2e50",
   "metadata": {
    "tags": []
   },
   "outputs": [
    {
     "data": {
      "text/plain": [
       "2080344"
      ]
     },
     "execution_count": 49,
     "metadata": {},
     "output_type": "execute_result"
    }
   ],
   "source": [
    "avspace"
   ]
  },
  {
   "cell_type": "code",
   "execution_count": 52,
   "id": "1e6a2955-8f3f-4dac-a000-d036777870b6",
   "metadata": {},
   "outputs": [],
   "source": [
    "su2,min=0,10000000000\n",
    "for i in ls[1:]:\n",
    "    x=i-avspace\n",
    "    if x>0:\n",
    "        if x<min:\n",
    "            min=x\n",
    "            su2=i"
   ]
  },
  {
   "cell_type": "code",
   "execution_count": 53,
   "id": "63edecb5-8452-476e-91d2-ba8b06cff3a0",
   "metadata": {
    "tags": []
   },
   "outputs": [
    {
     "data": {
      "text/plain": [
       "(1611443, 2086088)"
      ]
     },
     "execution_count": 53,
     "metadata": {},
     "output_type": "execute_result"
    }
   ],
   "source": [
    "su1,su2"
   ]
  },
  {
   "cell_type": "code",
   "execution_count": null,
   "id": "1dbfc6b4-59e7-4211-ad00-dedf57bfa56c",
   "metadata": {},
   "outputs": [],
   "source": []
  },
  {
   "cell_type": "code",
   "execution_count": null,
   "id": "e0ec4613-6c57-47ee-8287-7cf53987bd2e",
   "metadata": {},
   "outputs": [],
   "source": []
  }
 ],
 "metadata": {
  "kernelspec": {
   "display_name": "Python 3 (ipykernel)",
   "language": "python",
   "name": "python3"
  },
  "language_info": {
   "codemirror_mode": {
    "name": "ipython",
    "version": 3
   },
   "file_extension": ".py",
   "mimetype": "text/x-python",
   "name": "python",
   "nbconvert_exporter": "python",
   "pygments_lexer": "ipython3",
   "version": "3.9.12"
  }
 },
 "nbformat": 4,
 "nbformat_minor": 5
}
